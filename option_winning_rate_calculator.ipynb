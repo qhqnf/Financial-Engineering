{
  "nbformat": 4,
  "nbformat_minor": 0,
  "metadata": {
    "colab": {
      "name": "option_winning_rate_calculator.ipynb의 사본",
      "provenance": [],
      "collapsed_sections": [],
      "authorship_tag": "ABX9TyM21bHSg5kWD1FufsI5o2rq",
      "include_colab_link": true
    },
    "kernelspec": {
      "name": "python3",
      "display_name": "Python 3"
    },
    "language_info": {
      "name": "python"
    }
  },
  "cells": [
    {
      "cell_type": "markdown",
      "metadata": {
        "id": "view-in-github",
        "colab_type": "text"
      },
      "source": [
        "<a href=\"https://colab.research.google.com/github/qhqnf/Financial-Engineering/blob/master/option_winning_rate_calculator.ipynb\" target=\"_parent\"><img src=\"https://colab.research.google.com/assets/colab-badge.svg\" alt=\"Open In Colab\"/></a>"
      ]
    },
    {
      "cell_type": "code",
      "metadata": {
        "id": "rOCAbPz15IZf"
      },
      "source": [
        "!pip install numpy scipy matplotlib"
      ],
      "execution_count": null,
      "outputs": []
    },
    {
      "cell_type": "code",
      "metadata": {
        "colab": {
          "base_uri": "https://localhost:8080/"
        },
        "id": "0z7Znxpj5dxv",
        "outputId": "b237767b-0a21-4c46-e93b-7d1e17677067"
      },
      "source": [
        "import numpy as np\n",
        "from scipy import stats\n",
        "import matplotlib.pyplot as plt\n",
        "\n",
        "from math import sqrt\n",
        "\n",
        "print(f\"Hello Numpy {np.__version__}!\")"
      ],
      "execution_count": null,
      "outputs": [
        {
          "output_type": "stream",
          "text": [
            "Hello Numpy 1.19.5!\n"
          ],
          "name": "stdout"
        }
      ]
    },
    {
      "cell_type": "code",
      "metadata": {
        "id": "hzvz7FFjYTy0"
      },
      "source": [
        "#@title Enter Current KOSPI200 Index { display-mode: \"form\" }\n",
        "\n",
        "# enter implied volatility or VIX index\n",
        "kospi200 =  425#@param {type:\"number\"}"
      ],
      "execution_count": null,
      "outputs": []
    },
    {
      "cell_type": "code",
      "metadata": {
        "id": "IbSDE5ZlGizT"
      },
      "source": [
        "#@title Enter Volatility or VIX index { display-mode: \"form\" }\n",
        "\n",
        "# enter implied volatility or VIX index\n",
        "volatility =  15#@param {type:\"number\"}"
      ],
      "execution_count": null,
      "outputs": []
    },
    {
      "cell_type": "code",
      "metadata": {
        "id": "h9Mb3HynHe1a"
      },
      "source": [
        "#@title Enter winning rate you want { form-width: \"50%\", display-mode: \"form\" }\n",
        "\n",
        "# enter winning rate\n",
        "winning_rate = 0.7 #@param {type:\"slider\", min:0.01, max:0.99, step:0.01}"
      ],
      "execution_count": null,
      "outputs": []
    },
    {
      "cell_type": "code",
      "metadata": {
        "id": "ELNdEB-x54kw",
        "colab": {
          "base_uri": "https://localhost:8080/"
        },
        "outputId": "2c6e2186-591c-4080-df25-8fc025298de3"
      },
      "source": [
        "print(f\"Volatility: {volatility}\\nWinning rate: {winning_rate}\")"
      ],
      "execution_count": null,
      "outputs": [
        {
          "output_type": "stream",
          "text": [
            "Volatility: 15\n",
            "Winning rate: 0.7\n"
          ],
          "name": "stdout"
        }
      ]
    },
    {
      "cell_type": "code",
      "metadata": {
        "colab": {
          "base_uri": "https://localhost:8080/",
          "height": 392
        },
        "id": "4hE8J0hrI6X-",
        "outputId": "ee1bde5e-e63e-41ae-d12d-6f36d62e8a6b"
      },
      "source": [
        "%matplotlib inline\n",
        "\n",
        "# normal distribution pdf parameter\n",
        "mu = kospi200\n",
        "sigma = (mu * volatility / 100) / sqrt(12)\n",
        "\n",
        "# normal distribution object\n",
        "norm_dist = stats.norm(loc=mu, scale=sigma)\n",
        "\n",
        "# x point matching for winning rate\n",
        "# ppf is for inverse cdf\n",
        "strike_price = mu + stats.norm.ppf(winning_rate) * sigma\n",
        "\n",
        "# x axis for plot\n",
        "range = 50\n",
        "x = np.linspace(mu-range, mu+range, 101)\n",
        "\n",
        "# plot parameter\n",
        "plt.figure(figsize=(10, 6))\n",
        "\n",
        "ax = plt.subplot()\n",
        "ax.set_xticks([mu, strike_price])\n",
        "\n",
        "plt.plot(x, norm_dist.pdf(x))\n",
        "plt.axvline(x=strike_price)\n",
        "# print(plt.xticks().append(strike_price))"
      ],
      "execution_count": null,
      "outputs": [
        {
          "output_type": "execute_result",
          "data": {
            "text/plain": [
              "<matplotlib.lines.Line2D at 0x7f1f3ae7f4d0>"
            ]
          },
          "metadata": {
            "tags": []
          },
          "execution_count": 8
        },
        {
          "output_type": "display_data",
          "data": {
            "image/png": "[encoded data removed]",
            "text/plain": [
              "<Figure size 720x432 with 1 Axes>"
            ]
          },
          "metadata": {
            "tags": [],
            "needs_background": "light"
          }
        }
      ]
    }
  ]
}